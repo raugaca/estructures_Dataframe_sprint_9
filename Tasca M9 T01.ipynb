{
 "cells": [
  {
   "cell_type": "markdown",
   "id": "25f35ba5",
   "metadata": {},
   "source": [
    "# Exercici 1\n",
    "Agafa un text en anglès que vulguis, i calcula'n la freqüència de les paraules."
   ]
  },
  {
   "cell_type": "code",
   "execution_count": 160,
   "id": "e114f17f",
   "metadata": {},
   "outputs": [],
   "source": [
    "import pandas as pd\n",
    "import numpy as np\n",
    "import nltk\n",
    "from nltk.tokenize import sent_tokenize, word_tokenize\n",
    "from nltk.probability import FreqDist\n",
    "import matplotlib.pyplot as plt\n",
    "\n",
    "text=\"\"\"In today's area of internet and online services, data is generating at incredible speed and amount. Generally, \n",
    "Data analyst, engineer, and scientists are handling relational or tabular data. These tabular data columns have either \n",
    "numerical or categorical data. Generated data has a variety of structures such as text, image, audio, and video. Online \n",
    "activities such as articles, website text, blog posts, social media posts are generating unstructured textual data. \n",
    "\"\"\"\n",
    "\n",
    "tokenized_word=word_tokenize(text)\n",
    "tokenized_sent=sent_tokenize(text)"
   ]
  },
  {
   "cell_type": "code",
   "execution_count": 161,
   "id": "3af22938",
   "metadata": {},
   "outputs": [
    {
     "name": "stdout",
     "output_type": "stream",
     "text": [
      "<FreqDist with 55 samples and 85 outcomes>\n"
     ]
    }
   ],
   "source": [
    "#Frequency Distribution\n",
    "\n",
    "fdist = FreqDist(tokenized_word)\n",
    "print(fdist)"
   ]
  },
  {
   "cell_type": "markdown",
   "id": "3cfb539f",
   "metadata": {},
   "source": [
    "### Frequency Distribution"
   ]
  },
  {
   "cell_type": "code",
   "execution_count": 162,
   "id": "bd0e5427",
   "metadata": {
    "scrolled": true
   },
   "outputs": [
    {
     "data": {
      "image/png": "[encoded data removed]",
      "text/plain": [
       "<Figure size 864x288 with 1 Axes>"
      ]
     },
     "metadata": {
      "needs_background": "light"
     },
     "output_type": "display_data"
    }
   ],
   "source": [
    "plt.figure(figsize = (12, 4))\n",
    "\n",
    "fdist.plot(50,cumulative=False)\n",
    "plt.show()"
   ]
  },
  {
   "cell_type": "code",
   "execution_count": 163,
   "id": "afeed6f8",
   "metadata": {},
   "outputs": [
    {
     "data": {
      "text/plain": [
       "[(',', 10),\n",
       " ('data', 6),\n",
       " ('.', 5),\n",
       " ('and', 4),\n",
       " ('of', 2),\n",
       " ('generating', 2),\n",
       " ('are', 2),\n",
       " ('or', 2),\n",
       " ('tabular', 2),\n",
       " ('such', 2),\n",
       " ('as', 2),\n",
       " ('text', 2),\n",
       " ('posts', 2),\n",
       " ('In', 1),\n",
       " ('today', 1),\n",
       " (\"'s\", 1),\n",
       " ('area', 1),\n",
       " ('internet', 1),\n",
       " ('online', 1),\n",
       " ('services', 1),\n",
       " ('is', 1),\n",
       " ('at', 1),\n",
       " ('incredible', 1),\n",
       " ('speed', 1),\n",
       " ('amount', 1),\n",
       " ('Generally', 1),\n",
       " ('Data', 1),\n",
       " ('analyst', 1),\n",
       " ('engineer', 1),\n",
       " ('scientists', 1),\n",
       " ('handling', 1),\n",
       " ('relational', 1),\n",
       " ('These', 1),\n",
       " ('columns', 1),\n",
       " ('have', 1),\n",
       " ('either', 1),\n",
       " ('numerical', 1),\n",
       " ('categorical', 1),\n",
       " ('Generated', 1),\n",
       " ('has', 1),\n",
       " ('a', 1),\n",
       " ('variety', 1),\n",
       " ('structures', 1),\n",
       " ('image', 1),\n",
       " ('audio', 1),\n",
       " ('video', 1),\n",
       " ('Online', 1),\n",
       " ('activities', 1),\n",
       " ('articles', 1),\n",
       " ('website', 1),\n",
       " ('blog', 1),\n",
       " ('social', 1),\n",
       " ('media', 1),\n",
       " ('unstructured', 1),\n",
       " ('textual', 1)]"
      ]
     },
     "execution_count": 163,
     "metadata": {},
     "output_type": "execute_result"
    }
   ],
   "source": [
    "fdist.most_common()"
   ]
  },
  {
   "cell_type": "markdown",
   "id": "4492c098",
   "metadata": {},
   "source": [
    "#### Conclusions\n",
    "Com que es tracta d'un text extret de la teoria d'aquest Sprint, a part de la coma i el punt, la paraula amb una freqüència més alta és \"data\"."
   ]
  },
  {
   "cell_type": "markdown",
   "id": "d7d11d1d",
   "metadata": {},
   "source": [
    "# Exercici 2\n",
    "Treu les stopwords i realitza stemming al teu conjunt de dades."
   ]
  },
  {
   "cell_type": "code",
   "execution_count": 164,
   "id": "03b2430e",
   "metadata": {},
   "outputs": [],
   "source": [
    "from nltk.corpus import stopwords\n",
    "from nltk.stem import PorterStemmer\n",
    "from nltk.stem.wordnet import WordNetLemmatizer\n",
    "\n",
    "stop_words=set(stopwords.words(\"english\"))"
   ]
  },
  {
   "cell_type": "code",
   "execution_count": 165,
   "id": "a957a58e",
   "metadata": {},
   "outputs": [
    {
     "name": "stdout",
     "output_type": "stream",
     "text": [
      "Tokenized Text:\n",
      " ['In', 'today', \"'s\", 'area', 'of', 'internet', 'and', 'online', 'services', ',', 'data', 'is', 'generating', 'at', 'incredible', 'speed', 'and', 'amount', '.', 'Generally', ',', 'Data', 'analyst', ',', 'engineer', ',', 'and', 'scientists', 'are', 'handling', 'relational', 'or', 'tabular', 'data', '.', 'These', 'tabular', 'data', 'columns', 'have', 'either', 'numerical', 'or', 'categorical', 'data', '.', 'Generated', 'data', 'has', 'a', 'variety', 'of', 'structures', 'such', 'as', 'text', ',', 'image', ',', 'audio', ',', 'and', 'video', '.', 'Online', 'activities', 'such', 'as', 'articles', ',', 'website', 'text', ',', 'blog', 'posts', ',', 'social', 'media', 'posts', 'are', 'generating', 'unstructured', 'textual', 'data', '.']\n",
      "\n",
      "Filterd Text:\n",
      " ['In', 'today', \"'s\", 'area', 'internet', 'online', 'services', ',', 'data', 'generating', 'incredible', 'speed', 'amount', '.', 'Generally', ',', 'Data', 'analyst', ',', 'engineer', ',', 'scientists', 'handling', 'relational', 'tabular', 'data', '.', 'These', 'tabular', 'data', 'columns', 'either', 'numerical', 'categorical', 'data', '.', 'Generated', 'data', 'variety', 'structures', 'text', ',', 'image', ',', 'audio', ',', 'video', '.', 'Online', 'activities', 'articles', ',', 'website', 'text', ',', 'blog', 'posts', ',', 'social', 'media', 'posts', 'generating', 'unstructured', 'textual', 'data', '.']\n"
     ]
    }
   ],
   "source": [
    "filtered_sent=[]\n",
    "for w in tokenized_word:\n",
    "    if w not in stop_words:\n",
    "        filtered_sent.append(w)\n",
    "print(\"Tokenized Text:\\n\",tokenized_word)\n",
    "print(\"\\nFilterd Text:\\n\",filtered_sent)"
   ]
  },
  {
   "cell_type": "markdown",
   "id": "ebe1c71b",
   "metadata": {},
   "source": [
    "### Stemming & Lemmatization"
   ]
  },
  {
   "cell_type": "code",
   "execution_count": 166,
   "id": "52749dc1",
   "metadata": {},
   "outputs": [
    {
     "name": "stdout",
     "output_type": "stream",
     "text": [
      "Filtered Text:\n",
      " ['In', 'today', \"'s\", 'area', 'internet', 'online', 'services', ',', 'data', 'generating', 'incredible', 'speed', 'amount', '.', 'Generally', ',', 'Data', 'analyst', ',', 'engineer', ',', 'scientists', 'handling', 'relational', 'tabular', 'data', '.', 'These', 'tabular', 'data', 'columns', 'either', 'numerical', 'categorical', 'data', '.', 'Generated', 'data', 'variety', 'structures', 'text', ',', 'image', ',', 'audio', ',', 'video', '.', 'Online', 'activities', 'articles', ',', 'website', 'text', ',', 'blog', 'posts', ',', 'social', 'media', 'posts', 'generating', 'unstructured', 'textual', 'data', '.']\n",
      "\n",
      "Stemmed Text:\n",
      " ['in', 'today', \"'s\", 'area', 'internet', 'onlin', 'servic', ',', 'data', 'gener', 'incred', 'speed', 'amount', '.', 'gener', ',', 'data', 'analyst', ',', 'engin', ',', 'scientist', 'handl', 'relat', 'tabular', 'data', '.', 'these', 'tabular', 'data', 'column', 'either', 'numer', 'categor', 'data', '.', 'gener', 'data', 'varieti', 'structur', 'text', ',', 'imag', ',', 'audio', ',', 'video', '.', 'onlin', 'activ', 'articl', ',', 'websit', 'text', ',', 'blog', 'post', ',', 'social', 'media', 'post', 'gener', 'unstructur', 'textual', 'data', '.']\n",
      "\n",
      "Lematized Text:\n",
      " ['In', 'today', \"'s\", 'area', 'internet', 'online', 'service', ',', 'data', 'generate', 'incredible', 'speed', 'amount', '.', 'Generally', ',', 'Data', 'analyst', ',', 'engineer', ',', 'scientists', 'handle', 'relational', 'tabular', 'data', '.', 'These', 'tabular', 'data', 'columns', 'either', 'numerical', 'categorical', 'data', '.', 'Generated', 'data', 'variety', 'structure', 'text', ',', 'image', ',', 'audio', ',', 'video', '.', 'Online', 'activities', 'article', ',', 'website', 'text', ',', 'blog', 'post', ',', 'social', 'media', 'post', 'generate', 'unstructured', 'textual', 'data', '.']\n"
     ]
    }
   ],
   "source": [
    "# Fem els dos passos partint de les paraules filtrades amb l'Stopword\n",
    "ps = PorterStemmer()\n",
    "lem = WordNetLemmatizer()\n",
    "\n",
    "stemmed_words=[]\n",
    "lematized_words=[]\n",
    "\n",
    "for w in filtered_sent:\n",
    "    stemmed_words.append(ps.stem(w))\n",
    "    lematized_words.append(lem.lemmatize(w, 'v'))\n",
    "print(\"Filtered Text:\\n\",filtered_sent)\n",
    "print(\"\\nStemmed Text:\\n\",stemmed_words)\n",
    "print(\"\\nLematized Text:\\n\",lematized_words)"
   ]
  },
  {
   "cell_type": "markdown",
   "id": "8aafb775",
   "metadata": {},
   "source": [
    "# Exercici 3\n",
    "Realitza sentiment analysis al teu conjunt de dades."
   ]
  },
  {
   "cell_type": "code",
   "execution_count": 168,
   "id": "9d8eef0e",
   "metadata": {},
   "outputs": [],
   "source": [
    "from textblob import TextBlob"
   ]
  },
  {
   "cell_type": "markdown",
   "id": "6470b5a8",
   "metadata": {},
   "source": [
    "Primer fem l'evaluació de Polaritat i Subjectivitat del text sencer i després per cada frase per separat amb el módul TextBold. La polaritat és un decimal entre -1 i 1 (on -1 és molt negatiu, 0 neutre, i 1 positiu) i la subjectivitat és un número entre 0 i 1 (0 molt objectiu i 1 molt subjectiu).\n",
    "També farem la comparació de polaritat fent servir el model de NLTK."
   ]
  },
  {
   "cell_type": "code",
   "execution_count": 169,
   "id": "243f3f13",
   "metadata": {},
   "outputs": [
    {
     "data": {
      "text/plain": [
       "Sentiment(polarity=0.19666666666666668, subjectivity=0.49333333333333335)"
      ]
     },
     "execution_count": 169,
     "metadata": {},
     "output_type": "execute_result"
    }
   ],
   "source": [
    "wiki_text = TextBlob(text)\n",
    "wiki_text.sentiment"
   ]
  },
  {
   "cell_type": "code",
   "execution_count": 183,
   "id": "785394bb",
   "metadata": {},
   "outputs": [
    {
     "data": {
      "text/html": [
       "<style type=\"text/css\">\n",
       "#T_4f7bc_row0_col3, #T_4f7bc_row1_col3, #T_4f7bc_row2_col3, #T_4f7bc_row3_col3, #T_4f7bc_row4_col3 {\n",
       "  width: 300px;\n",
       "}\n",
       "</style>\n",
       "<table id=\"T_4f7bc\">\n",
       "  <thead>\n",
       "    <tr>\n",
       "      <th class=\"blank level0\" >&nbsp;</th>\n",
       "      <th id=\"T_4f7bc_level0_col0\" class=\"col_heading level0 col0\" >Sentence</th>\n",
       "      <th id=\"T_4f7bc_level0_col1\" class=\"col_heading level0 col1\" >Polarity_TextBlob</th>\n",
       "      <th id=\"T_4f7bc_level0_col2\" class=\"col_heading level0 col2\" >Subjectivity_TextBlob</th>\n",
       "      <th id=\"T_4f7bc_level0_col3\" class=\"col_heading level0 col3\" >Polarity_NLTK</th>\n",
       "    </tr>\n",
       "  </thead>\n",
       "  <tbody>\n",
       "    <tr>\n",
       "      <th id=\"T_4f7bc_level0_row0\" class=\"row_heading level0 row0\" >0</th>\n",
       "      <td id=\"T_4f7bc_row0_col0\" class=\"data row0 col0\" >In today's area of internet and online services, data is generating at incredible speed and amount.</td>\n",
       "      <td id=\"T_4f7bc_row0_col1\" class=\"data row0 col1\" >0.900000</td>\n",
       "      <td id=\"T_4f7bc_row0_col2\" class=\"data row0 col2\" >0.900000</td>\n",
       "      <td id=\"T_4f7bc_row0_col3\" class=\"data row0 col3\" >{'neg': 0.0, 'neu': 1.0, 'pos': 0.0, 'compound': 0.0}</td>\n",
       "    </tr>\n",
       "    <tr>\n",
       "      <th id=\"T_4f7bc_level0_row1\" class=\"row_heading level0 row1\" >1</th>\n",
       "      <td id=\"T_4f7bc_row1_col0\" class=\"data row1 col0\" >Generally, \n",
       "Data analyst, engineer, and scientists are handling relational or tabular data.</td>\n",
       "      <td id=\"T_4f7bc_row1_col1\" class=\"data row1 col1\" >0.050000</td>\n",
       "      <td id=\"T_4f7bc_row1_col2\" class=\"data row1 col2\" >0.500000</td>\n",
       "      <td id=\"T_4f7bc_row1_col3\" class=\"data row1 col3\" >{'neg': 0.0, 'neu': 1.0, 'pos': 0.0, 'compound': 0.0}</td>\n",
       "    </tr>\n",
       "    <tr>\n",
       "      <th id=\"T_4f7bc_level0_row2\" class=\"row_heading level0 row2\" >2</th>\n",
       "      <td id=\"T_4f7bc_row2_col0\" class=\"data row2 col0\" >These tabular data columns have either \n",
       "numerical or categorical data.</td>\n",
       "      <td id=\"T_4f7bc_row2_col1\" class=\"data row2 col1\" >0.000000</td>\n",
       "      <td id=\"T_4f7bc_row2_col2\" class=\"data row2 col2\" >0.000000</td>\n",
       "      <td id=\"T_4f7bc_row2_col3\" class=\"data row2 col3\" >{'neg': 0.0, 'neu': 1.0, 'pos': 0.0, 'compound': 0.0}</td>\n",
       "    </tr>\n",
       "    <tr>\n",
       "      <th id=\"T_4f7bc_level0_row3\" class=\"row_heading level0 row3\" >3</th>\n",
       "      <td id=\"T_4f7bc_row3_col0\" class=\"data row3 col0\" >Generated data has a variety of structures such as text, image, audio, and video.</td>\n",
       "      <td id=\"T_4f7bc_row3_col1\" class=\"data row3 col1\" >0.000000</td>\n",
       "      <td id=\"T_4f7bc_row3_col2\" class=\"data row3 col2\" >0.500000</td>\n",
       "      <td id=\"T_4f7bc_row3_col3\" class=\"data row3 col3\" >{'neg': 0.0, 'neu': 1.0, 'pos': 0.0, 'compound': 0.0}</td>\n",
       "    </tr>\n",
       "    <tr>\n",
       "      <th id=\"T_4f7bc_level0_row4\" class=\"row_heading level0 row4\" >4</th>\n",
       "      <td id=\"T_4f7bc_row4_col0\" class=\"data row4 col0\" >Online \n",
       "activities such as articles, website text, blog posts, social media posts are generating unstructured textual data.</td>\n",
       "      <td id=\"T_4f7bc_row4_col1\" class=\"data row4 col1\" >0.016667</td>\n",
       "      <td id=\"T_4f7bc_row4_col2\" class=\"data row4 col2\" >0.283333</td>\n",
       "      <td id=\"T_4f7bc_row4_col3\" class=\"data row4 col3\" >{'neg': 0.0, 'neu': 1.0, 'pos': 0.0, 'compound': 0.0}</td>\n",
       "    </tr>\n",
       "  </tbody>\n",
       "</table>\n"
      ],
      "text/plain": [
       "<pandas.io.formats.style.Styler at 0x1ae454faf10>"
      ]
     },
     "execution_count": 183,
     "metadata": {},
     "output_type": "execute_result"
    }
   ],
   "source": [
    "from nltk.sentiment.vader import SentimentIntensityAnalyzer\n",
    "\n",
    "feelings = SentimentIntensityAnalyzer()\n",
    "\n",
    "df_text_sent = pd.DataFrame(tokenized_sent, columns=['Sentence'])\n",
    "\n",
    "df_text_sent['Polarity_TextBlob'] = [TextBlob(i).sentiment.polarity for i in df_text_sent['Sentence']]\n",
    "df_text_sent['Subjectivity_TextBlob'] = [TextBlob(i).sentiment.subjectivity for i in df_text_sent['Sentence']]\n",
    "df_text_sent['Polarity_NLTK'] = [feelings.polarity_scores(i) for i in df_text_sent['Sentence']]\n",
    "\n",
    "df_text_sent\n",
    "df_text_sent.style.set_properties(subset=['Polarity_NLTK'], **{'width': '300px'})"
   ]
  },
  {
   "cell_type": "markdown",
   "id": "fa3094cb",
   "metadata": {},
   "source": [
    "#### Conclusions\n",
    "Comparant els resultats entre el model NLTK i el TextBlob, veiem que el NTLK identifica totes les frases del text com neutres, mentre que el TextBlob torna uns resultats més concrets i diversos. Segons els TextBlob la primera frase és la que millor es pot intepretar amb valor de 0,9 tan per la subjectivitat com per la polaritat."
   ]
  }
 ],
 "metadata": {
  "kernelspec": {
   "display_name": "Python 3 (ipykernel)",
   "language": "python",
   "name": "python3"
  },
  "language_info": {
   "codemirror_mode": {
    "name": "ipython",
    "version": 3
   },
   "file_extension": ".py",
   "mimetype": "text/x-python",
   "name": "python",
   "nbconvert_exporter": "python",
   "pygments_lexer": "ipython3",
   "version": "3.9.12"
  }
 },
 "nbformat": 4,
 "nbformat_minor": 5
}
